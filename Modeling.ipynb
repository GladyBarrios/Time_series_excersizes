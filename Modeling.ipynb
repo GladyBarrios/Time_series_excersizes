{
 "cells": [
  {
   "cell_type": "code",
   "execution_count": 1,
   "id": "32697b6b",
   "metadata": {},
   "outputs": [],
   "source": [
    "# for presentation purposes\n",
    "import warnings\n",
    "warnings.filterwarnings(\"ignore\")\n",
    "\n",
    "import numpy as np\n",
    "import pandas as pd\n",
    "\n",
    "# visualize \n",
    "import matplotlib.pyplot as plt\n",
    "%matplotlib inline\n",
    "import seaborn as sns\n",
    "\n",
    "# wrangle\n",
    "import acquire\n",
    "import prepare\n",
    "\n",
    "# working with dates\n",
    "from datetime import datetime\n",
    "\n",
    "# to evaluated performance using rmse\n",
    "from sklearn.metrics import mean_squared_error\n",
    "from math import sqrt \n",
    "\n",
    "# for tsa \n",
    "import statsmodels.api as sm\n",
    "\n",
    "# holt's linear trend model. \n",
    "from statsmodels.tsa.api import Holt"
   ]
  },
  {
   "cell_type": "code",
   "execution_count": 2,
   "id": "84f9aa9e",
   "metadata": {},
   "outputs": [],
   "source": [
    "df = pd.read_csv('saas.csv')"
   ]
  },
  {
   "cell_type": "code",
   "execution_count": 3,
   "id": "600f6f3e",
   "metadata": {},
   "outputs": [
    {
     "data": {
      "text/html": [
       "<div>\n",
       "<style scoped>\n",
       "    .dataframe tbody tr th:only-of-type {\n",
       "        vertical-align: middle;\n",
       "    }\n",
       "\n",
       "    .dataframe tbody tr th {\n",
       "        vertical-align: top;\n",
       "    }\n",
       "\n",
       "    .dataframe thead th {\n",
       "        text-align: right;\n",
       "    }\n",
       "</style>\n",
       "<table border=\"1\" class=\"dataframe\">\n",
       "  <thead>\n",
       "    <tr style=\"text-align: right;\">\n",
       "      <th></th>\n",
       "      <th>Month_Invoiced</th>\n",
       "      <th>Customer_Id</th>\n",
       "      <th>Invoice_Id</th>\n",
       "      <th>Subscription_Type</th>\n",
       "      <th>Amount</th>\n",
       "    </tr>\n",
       "  </thead>\n",
       "  <tbody>\n",
       "    <tr>\n",
       "      <th>0</th>\n",
       "      <td>2014-01-31</td>\n",
       "      <td>1000000</td>\n",
       "      <td>5000000</td>\n",
       "      <td>0.0</td>\n",
       "      <td>0.0</td>\n",
       "    </tr>\n",
       "    <tr>\n",
       "      <th>1</th>\n",
       "      <td>2014-01-31</td>\n",
       "      <td>1000001</td>\n",
       "      <td>5000001</td>\n",
       "      <td>2.0</td>\n",
       "      <td>10.0</td>\n",
       "    </tr>\n",
       "    <tr>\n",
       "      <th>2</th>\n",
       "      <td>2014-01-31</td>\n",
       "      <td>1000002</td>\n",
       "      <td>5000002</td>\n",
       "      <td>0.0</td>\n",
       "      <td>0.0</td>\n",
       "    </tr>\n",
       "    <tr>\n",
       "      <th>3</th>\n",
       "      <td>2014-01-31</td>\n",
       "      <td>1000003</td>\n",
       "      <td>5000003</td>\n",
       "      <td>0.0</td>\n",
       "      <td>0.0</td>\n",
       "    </tr>\n",
       "    <tr>\n",
       "      <th>4</th>\n",
       "      <td>2014-01-31</td>\n",
       "      <td>1000004</td>\n",
       "      <td>5000004</td>\n",
       "      <td>1.0</td>\n",
       "      <td>5.0</td>\n",
       "    </tr>\n",
       "  </tbody>\n",
       "</table>\n",
       "</div>"
      ],
      "text/plain": [
       "  Month_Invoiced  Customer_Id  Invoice_Id  Subscription_Type  Amount\n",
       "0     2014-01-31      1000000     5000000                0.0     0.0\n",
       "1     2014-01-31      1000001     5000001                2.0    10.0\n",
       "2     2014-01-31      1000002     5000002                0.0     0.0\n",
       "3     2014-01-31      1000003     5000003                0.0     0.0\n",
       "4     2014-01-31      1000004     5000004                1.0     5.0"
      ]
     },
     "execution_count": 3,
     "metadata": {},
     "output_type": "execute_result"
    }
   ],
   "source": [
    "df.head()"
   ]
  },
  {
   "cell_type": "code",
   "execution_count": null,
   "id": "0081ab46",
   "metadata": {},
   "outputs": [],
   "source": []
  }
 ],
 "metadata": {
  "kernelspec": {
   "display_name": "Python 3 (ipykernel)",
   "language": "python",
   "name": "python3"
  },
  "language_info": {
   "codemirror_mode": {
    "name": "ipython",
    "version": 3
   },
   "file_extension": ".py",
   "mimetype": "text/x-python",
   "name": "python",
   "nbconvert_exporter": "python",
   "pygments_lexer": "ipython3",
   "version": "3.9.12"
  }
 },
 "nbformat": 4,
 "nbformat_minor": 5
}
